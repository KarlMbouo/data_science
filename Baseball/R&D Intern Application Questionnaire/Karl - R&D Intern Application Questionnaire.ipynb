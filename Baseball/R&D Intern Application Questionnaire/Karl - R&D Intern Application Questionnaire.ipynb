{
 "cells": [
  {
   "cell_type": "markdown",
   "metadata": {},
   "source": [
    "# PROGRAMMING QUESTION"
   ]
  },
  {
   "cell_type": "markdown",
   "metadata": {},
   "source": [
    "## Packages"
   ]
  },
  {
   "cell_type": "code",
   "execution_count": 9,
   "metadata": {},
   "outputs": [],
   "source": [
    "import pandas as pd\n",
    "from datetime import datetime, timedelta"
   ]
  },
  {
   "cell_type": "markdown",
   "metadata": {},
   "source": [
    "## 1."
   ]
  },
  {
   "cell_type": "code",
   "execution_count": 26,
   "metadata": {},
   "outputs": [
    {
     "name": "stdout",
     "output_type": "stream",
     "text": [
      "   player_id            name throws\n",
      "0          1  Patrick Murphy      L\n",
      "1          2    Wander Suero      R\n",
      "2          3   Kyle Finnegan      S\n"
     ]
    }
   ],
   "source": [
    "# Sample to work with dataframe\n",
    "player_lookup_data = {'player_id': [1, 2, 3],\n",
    "                      'name': ['Patrick Murphy', 'Wander Suero', 'Kyle Finnegan'],\n",
    "                      'throws': ['L', 'R', 'S']}\n",
    "\n",
    "player_lookup = pd.DataFrame(player_lookup_data)\n",
    "\n",
    "print(player_lookup)"
   ]
  },
  {
   "cell_type": "code",
   "execution_count": 27,
   "metadata": {},
   "outputs": [
    {
     "name": "stdout",
     "output_type": "stream",
     "text": [
      "   game_id  game_date home_team_id away_team_id\n",
      "0        1 2023-11-16            a            x\n",
      "1        2 2023-11-17            b            y\n",
      "2        3 2023-11-18            c            z\n"
     ]
    }
   ],
   "source": [
    "game_lookup_data = {'game_id': [1, 2, 3],\n",
    "                    'game_date': ['2023-11-16', '2023-11-17', '2023-11-18'],\n",
    "                    'home_team_id': ['a', 'b', 'c'],\n",
    "                    'away_team_id': ['x', 'y', 'z']}\n",
    "\n",
    "game_lookup = pd.DataFrame(game_lookup_data)\n",
    "\n",
    "# Convert 'game_date' to datetime format\n",
    "game_lookup['game_date'] = pd.to_datetime(game_lookup['game_date'])\n",
    "\n",
    "print(game_lookup)\n"
   ]
  },
  {
   "cell_type": "code",
   "execution_count": 28,
   "metadata": {},
   "outputs": [
    {
     "name": "stdout",
     "output_type": "stream",
     "text": [
      "   game_id  pitch_no  at_bat_no  pitch_of_at_bat  inning  top_inning  \\\n",
      "0        1         1          1                1       1           1   \n",
      "1        1         2          1                2       2           1   \n",
      "2        1         3          1                3       3           1   \n",
      "3        2         1          2                1       1           0   \n",
      "4        2         2          2                2       2           0   \n",
      "5        2         3          2                3       3           0   \n",
      "6        3         1          3                1       1           1   \n",
      "7        3         2          3                2       2           1   \n",
      "8        3         3          3                3       3           1   \n",
      "\n",
      "   pitcher_id  batter_id  velo  \n",
      "0           1        101  90.1  \n",
      "1           1        102  91.2  \n",
      "2           1        103  92.0  \n",
      "3           2        201  88.5  \n",
      "4           2        202  87.7  \n",
      "5           2        203  89.3  \n",
      "6           3        301  95.0  \n",
      "7           3        302  94.2  \n",
      "8           3        303  93.8  \n"
     ]
    }
   ],
   "source": [
    "pitches_data = {'game_id': [1, 1, 1, 2, 2, 2, 3, 3, 3],\n",
    "                 'pitch_no': [1, 2, 3, 1, 2, 3, 1, 2, 3],\n",
    "                 'at_bat_no': [1, 1, 1, 2, 2, 2, 3, 3, 3],\n",
    "                 'pitch_of_at_bat': [1, 2, 3, 1, 2, 3, 1, 2, 3],\n",
    "                 'inning': [1, 2, 3, 1, 2, 3, 1, 2, 3],\n",
    "                 'top_inning': [1, 1, 1, 0, 0, 0, 1, 1, 1],\n",
    "                 'pitcher_id': [1, 1, 1, 2, 2, 2, 3, 3, 3],\n",
    "                 'batter_id': [101, 102, 103, 201, 202, 203, 301, 302, 303],\n",
    "                 'velo': [90.1, 91.2, 92.0, 88.5, 87.7, 89.3, 95.0, 94.2, 93.8]}\n",
    "\n",
    "pitches = pd.DataFrame(pitches_data)\n",
    "\n",
    "print(pitches)\n"
   ]
  },
  {
   "cell_type": "code",
   "execution_count": 29,
   "metadata": {},
   "outputs": [
    {
     "name": "stdout",
     "output_type": "stream",
     "text": [
      "   pitcher_id            name  n_games  n_pitches   velo_avg\n",
      "0           1  Patrick Murphy        1          3  91.100000\n",
      "1           2    Wander Suero        1          3  88.500000\n",
      "2           3   Kyle Finnegan        1          3  94.333333\n"
     ]
    }
   ],
   "source": [
    "# Merge the dataframes\n",
    "merged_data = pd.merge(pitches, game_lookup, on='game_id')\n",
    "merged_data = pd.merge(merged_data, player_lookup[['player_id', 'name']], left_on='pitcher_id', right_on='player_id')\n",
    "\n",
    "# Filter data for the last 7 days\n",
    "last_7_days = game_lookup['game_date'].max() - pd.DateOffset(days=6)\n",
    "filtered_data = merged_data[merged_data['game_date'] >= last_7_days]\n",
    "\n",
    "# Group by pitcher_id and calculate statistics\n",
    "pitcher_summary = filtered_data.groupby(['pitcher_id', 'name']).agg(\n",
    "    n_games=('game_id', 'nunique'),\n",
    "    n_pitches=('pitch_no', 'count'),\n",
    "    velo_avg=('velo', 'mean')\n",
    ").reset_index()\n",
    "\n",
    "print(pitcher_summary)"
   ]
  },
  {
   "cell_type": "markdown",
   "metadata": {},
   "source": [
    "## 2."
   ]
  },
  {
   "cell_type": "code",
   "execution_count": 25,
   "metadata": {},
   "outputs": [
    {
     "name": "stdout",
     "output_type": "stream",
     "text": [
      "Date             9/10/21  9/11/21  9/12/21  9/13/21  9/14/21  9/15/21  \\\n",
      "Name                                                                    \n",
      "Alberto Balnado        6       13        0        0       12       17   \n",
      "Austin Voth            0        0        0       19       17        0   \n",
      "Kyle Finnegan          0        0       17        0        0       22   \n",
      "Mason Thompson         0        0       17        0        0        6   \n",
      "Patrick Murphy         1        0        0       14        0        0   \n",
      "Ryan Harper            0       19        0        0        0        0   \n",
      "Sam Clay               0       16        0       13        0       14   \n",
      "Wander Suero           0        0        0        0       10       11   \n",
      "\n",
      "Date             Total Last 3 Days  Total Last 7 Days  \n",
      "Name                                                   \n",
      "Alberto Balnado                 12                 48  \n",
      "Austin Voth                     36                 36  \n",
      "Kyle Finnegan                   17                 39  \n",
      "Mason Thompson                  17                 23  \n",
      "Patrick Murphy                  14                 15  \n",
      "Ryan Harper                      0                 19  \n",
      "Sam Clay                        13                 43  \n",
      "Wander Suero                    10                 21  \n"
     ]
    }
   ],
   "source": [
    "# The data\n",
    "data = {\n",
    "    \"Name\": [\"Patrick Murphy\", \"Wander Suero\", \"Kyle Finnegan\", \"Austin Voth\", \"Ryan Harper\", \"Mason Thompson\", \"Sam Clay\", \"Alberto Balnado\"],\n",
    "    \"9/10/21\": [\"0.1 | 1\", \"\", \"\", \"\", \"\", \"\", \"\", \"0.1 | 6\"],\n",
    "    \"9/11/21\": [\"\", \"\", \"\", \"\", \"1.0 | 19\", \"\", \"1.0 | 16\", \"0.1 | 13\"],\n",
    "    \"9/12/21\": [\"\", \"\", \"1.2 | 17\", \"\", \"\", \"0.1 | 17\", \"\", \"\"],\n",
    "    \"9/13/21\": [\"1.0 | 14\", \"\", \"\", \"1.0 | 19\", \"\", \"\", \"1.0 | 13\", \"\"],\n",
    "    \"9/14/21\": [\"\", \"1.0 | 10\", \"\", \"1.0 | 17\", \"\", \"\", \"\", \"1.0 | 12\"],\n",
    "    \"9/15/21\": [\"\", \"0.2 | 11\", \"1.1 | 22\", \"\", \"\", \"0.2 | 6\", \"0.1 | 14\", \"1.0 | 17\"],\n",
    "    \"9/16/21\": [\"\", \"\",\"\", \"\", \"\", \"\", \"\", \"\"],\n",
    "    \"Last 3 days\": [\"0.0 | 0\", \"1.2 | 21\", \"1.1 | 22\", \"1.0 | 17\", \"0.0 | 0\", \"0.2 | 6\", \"0.1 | 14\", \"2.0 | 29\"],\n",
    "    \"Last 7 days\": [\"1.1 | 27\",\"1.2 | 21\", \"3.0 | 39\", \"2.0 | 36\", \"1.0 | 19\", \"1.0 | 23\", \"2.1 | 43\", \"2.2 | 48\"]\n",
    "}\n",
    "\n",
    "df = pd.DataFrame(data)\n",
    "\n",
    "# Extract relevant columns for processing\n",
    "pitch_data = df.drop(columns=['Last 3 days', 'Last 7 days'])\n",
    "\n",
    "# Melt the DataFrame to convert it to a long format\n",
    "melted_df = pitch_data.melt(id_vars='Name', var_name='Date', value_name='Pitch_Count')\n",
    "\n",
    "# Filter out rows with empty strings in 'Pitch_Count'\n",
    "melted_df = melted_df[melted_df['Pitch_Count'] != '']\n",
    "\n",
    "# Split the 'Pitch_Count' column into 'Innings' and 'Pitch_Count'\n",
    "melted_df[['Innings', 'Pitch_Count']] = melted_df['Pitch_Count'].str.split('|', expand=True)\n",
    "melted_df['Pitch_Count'] = melted_df['Pitch_Count'].astype(int)\n",
    "\n",
    "# Create a pivot table for pitch count by pitcher and date\n",
    "pitch_count_matrix = melted_df.pivot_table(values='Pitch_Count', index='Name', columns='Date', aggfunc='sum', fill_value=0)\n",
    "\n",
    "# Calculate total pitch count for the last 3 days and last 7 days\n",
    "pitch_count_matrix['Total Last 3 Days'] = pitch_count_matrix.iloc[:, -4:-1].sum(axis=1)\n",
    "pitch_count_matrix['Total Last 7 Days'] = pitch_count_matrix.iloc[:, :-1].sum(axis=1)\n",
    "\n",
    "# Display the resulting DataFrame\n",
    "print(pitch_count_matrix)"
   ]
  },
  {
   "cell_type": "code",
   "execution_count": 24,
   "metadata": {},
   "outputs": [
    {
     "ename": "KeyError",
     "evalue": "\"['Last 3 days', 'Last 7 days'] not found in axis\"",
     "output_type": "error",
     "traceback": [
      "\u001b[0;31m---------------------------------------------------------------------------\u001b[0m",
      "\u001b[0;31mKeyError\u001b[0m                                  Traceback (most recent call last)",
      "\u001b[1;32m/Users/karlmbouombouo/Desktop/R-Projects/Baseball Analytics/R&D Intern Application Questionnaire/Karl - R&D Intern Application Questionnaire.ipynb Cellule 11\u001b[0m line \u001b[0;36m2\n\u001b[1;32m      <a href='vscode-notebook-cell:/Users/karlmbouombouo/Desktop/R-Projects/Baseball%20Analytics/R%26D%20Intern%20Application%20Questionnaire/Karl%20-%20R%26D%20Intern%20Application%20Questionnaire.ipynb#X14sZmlsZQ%3D%3D?line=0'>1</a>\u001b[0m \u001b[39m# Extract relevant columns for processing\u001b[39;00m\n\u001b[0;32m----> <a href='vscode-notebook-cell:/Users/karlmbouombouo/Desktop/R-Projects/Baseball%20Analytics/R%26D%20Intern%20Application%20Questionnaire/Karl%20-%20R%26D%20Intern%20Application%20Questionnaire.ipynb#X14sZmlsZQ%3D%3D?line=1'>2</a>\u001b[0m pitch_data \u001b[39m=\u001b[39m df\u001b[39m.\u001b[39;49mdrop(columns\u001b[39m=\u001b[39;49m[\u001b[39m'\u001b[39;49m\u001b[39mLast 3 days\u001b[39;49m\u001b[39m'\u001b[39;49m, \u001b[39m'\u001b[39;49m\u001b[39mLast 7 days\u001b[39;49m\u001b[39m'\u001b[39;49m])\n\u001b[1;32m      <a href='vscode-notebook-cell:/Users/karlmbouombouo/Desktop/R-Projects/Baseball%20Analytics/R%26D%20Intern%20Application%20Questionnaire/Karl%20-%20R%26D%20Intern%20Application%20Questionnaire.ipynb#X14sZmlsZQ%3D%3D?line=3'>4</a>\u001b[0m \u001b[39m# Melt the DataFrame to convert it to a long format\u001b[39;00m\n\u001b[1;32m      <a href='vscode-notebook-cell:/Users/karlmbouombouo/Desktop/R-Projects/Baseball%20Analytics/R%26D%20Intern%20Application%20Questionnaire/Karl%20-%20R%26D%20Intern%20Application%20Questionnaire.ipynb#X14sZmlsZQ%3D%3D?line=4'>5</a>\u001b[0m melted_df \u001b[39m=\u001b[39m pitch_data\u001b[39m.\u001b[39mmelt(id_vars\u001b[39m=\u001b[39m\u001b[39m'\u001b[39m\u001b[39mName\u001b[39m\u001b[39m'\u001b[39m, var_name\u001b[39m=\u001b[39m\u001b[39m'\u001b[39m\u001b[39mDate\u001b[39m\u001b[39m'\u001b[39m, value_name\u001b[39m=\u001b[39m\u001b[39m'\u001b[39m\u001b[39mPitch_Count\u001b[39m\u001b[39m'\u001b[39m)\n",
      "File \u001b[0;32m/opt/homebrew/lib/python3.11/site-packages/pandas/core/frame.py:5258\u001b[0m, in \u001b[0;36mDataFrame.drop\u001b[0;34m(self, labels, axis, index, columns, level, inplace, errors)\u001b[0m\n\u001b[1;32m   5110\u001b[0m \u001b[39mdef\u001b[39;00m \u001b[39mdrop\u001b[39m(\n\u001b[1;32m   5111\u001b[0m     \u001b[39mself\u001b[39m,\n\u001b[1;32m   5112\u001b[0m     labels: IndexLabel \u001b[39m=\u001b[39m \u001b[39mNone\u001b[39;00m,\n\u001b[0;32m   (...)\u001b[0m\n\u001b[1;32m   5119\u001b[0m     errors: IgnoreRaise \u001b[39m=\u001b[39m \u001b[39m\"\u001b[39m\u001b[39mraise\u001b[39m\u001b[39m\"\u001b[39m,\n\u001b[1;32m   5120\u001b[0m ) \u001b[39m-\u001b[39m\u001b[39m>\u001b[39m DataFrame \u001b[39m|\u001b[39m \u001b[39mNone\u001b[39;00m:\n\u001b[1;32m   5121\u001b[0m \u001b[39m    \u001b[39m\u001b[39m\"\"\"\u001b[39;00m\n\u001b[1;32m   5122\u001b[0m \u001b[39m    Drop specified labels from rows or columns.\u001b[39;00m\n\u001b[1;32m   5123\u001b[0m \n\u001b[0;32m   (...)\u001b[0m\n\u001b[1;32m   5256\u001b[0m \u001b[39m            weight  1.0     0.8\u001b[39;00m\n\u001b[1;32m   5257\u001b[0m \u001b[39m    \"\"\"\u001b[39;00m\n\u001b[0;32m-> 5258\u001b[0m     \u001b[39mreturn\u001b[39;00m \u001b[39msuper\u001b[39;49m()\u001b[39m.\u001b[39;49mdrop(\n\u001b[1;32m   5259\u001b[0m         labels\u001b[39m=\u001b[39;49mlabels,\n\u001b[1;32m   5260\u001b[0m         axis\u001b[39m=\u001b[39;49maxis,\n\u001b[1;32m   5261\u001b[0m         index\u001b[39m=\u001b[39;49mindex,\n\u001b[1;32m   5262\u001b[0m         columns\u001b[39m=\u001b[39;49mcolumns,\n\u001b[1;32m   5263\u001b[0m         level\u001b[39m=\u001b[39;49mlevel,\n\u001b[1;32m   5264\u001b[0m         inplace\u001b[39m=\u001b[39;49minplace,\n\u001b[1;32m   5265\u001b[0m         errors\u001b[39m=\u001b[39;49merrors,\n\u001b[1;32m   5266\u001b[0m     )\n",
      "File \u001b[0;32m/opt/homebrew/lib/python3.11/site-packages/pandas/core/generic.py:4549\u001b[0m, in \u001b[0;36mNDFrame.drop\u001b[0;34m(self, labels, axis, index, columns, level, inplace, errors)\u001b[0m\n\u001b[1;32m   4547\u001b[0m \u001b[39mfor\u001b[39;00m axis, labels \u001b[39min\u001b[39;00m axes\u001b[39m.\u001b[39mitems():\n\u001b[1;32m   4548\u001b[0m     \u001b[39mif\u001b[39;00m labels \u001b[39mis\u001b[39;00m \u001b[39mnot\u001b[39;00m \u001b[39mNone\u001b[39;00m:\n\u001b[0;32m-> 4549\u001b[0m         obj \u001b[39m=\u001b[39m obj\u001b[39m.\u001b[39;49m_drop_axis(labels, axis, level\u001b[39m=\u001b[39;49mlevel, errors\u001b[39m=\u001b[39;49merrors)\n\u001b[1;32m   4551\u001b[0m \u001b[39mif\u001b[39;00m inplace:\n\u001b[1;32m   4552\u001b[0m     \u001b[39mself\u001b[39m\u001b[39m.\u001b[39m_update_inplace(obj)\n",
      "File \u001b[0;32m/opt/homebrew/lib/python3.11/site-packages/pandas/core/generic.py:4591\u001b[0m, in \u001b[0;36mNDFrame._drop_axis\u001b[0;34m(self, labels, axis, level, errors, only_slice)\u001b[0m\n\u001b[1;32m   4589\u001b[0m         new_axis \u001b[39m=\u001b[39m axis\u001b[39m.\u001b[39mdrop(labels, level\u001b[39m=\u001b[39mlevel, errors\u001b[39m=\u001b[39merrors)\n\u001b[1;32m   4590\u001b[0m     \u001b[39melse\u001b[39;00m:\n\u001b[0;32m-> 4591\u001b[0m         new_axis \u001b[39m=\u001b[39m axis\u001b[39m.\u001b[39;49mdrop(labels, errors\u001b[39m=\u001b[39;49merrors)\n\u001b[1;32m   4592\u001b[0m     indexer \u001b[39m=\u001b[39m axis\u001b[39m.\u001b[39mget_indexer(new_axis)\n\u001b[1;32m   4594\u001b[0m \u001b[39m# Case for non-unique axis\u001b[39;00m\n\u001b[1;32m   4595\u001b[0m \u001b[39melse\u001b[39;00m:\n",
      "File \u001b[0;32m/opt/homebrew/lib/python3.11/site-packages/pandas/core/indexes/base.py:6699\u001b[0m, in \u001b[0;36mIndex.drop\u001b[0;34m(self, labels, errors)\u001b[0m\n\u001b[1;32m   6697\u001b[0m \u001b[39mif\u001b[39;00m mask\u001b[39m.\u001b[39many():\n\u001b[1;32m   6698\u001b[0m     \u001b[39mif\u001b[39;00m errors \u001b[39m!=\u001b[39m \u001b[39m\"\u001b[39m\u001b[39mignore\u001b[39m\u001b[39m\"\u001b[39m:\n\u001b[0;32m-> 6699\u001b[0m         \u001b[39mraise\u001b[39;00m \u001b[39mKeyError\u001b[39;00m(\u001b[39mf\u001b[39m\u001b[39m\"\u001b[39m\u001b[39m{\u001b[39;00m\u001b[39mlist\u001b[39m(labels[mask])\u001b[39m}\u001b[39;00m\u001b[39m not found in axis\u001b[39m\u001b[39m\"\u001b[39m)\n\u001b[1;32m   6700\u001b[0m     indexer \u001b[39m=\u001b[39m indexer[\u001b[39m~\u001b[39mmask]\n\u001b[1;32m   6701\u001b[0m \u001b[39mreturn\u001b[39;00m \u001b[39mself\u001b[39m\u001b[39m.\u001b[39mdelete(indexer)\n",
      "\u001b[0;31mKeyError\u001b[0m: \"['Last 3 days', 'Last 7 days'] not found in axis\""
     ]
    }
   ],
   "source": [
    "# Extract relevant columns for processing\n",
    "pitch_data = df.drop(columns=['Last 3 days', 'Last 7 days'])\n",
    "\n",
    "# Melt the DataFrame to convert it to a long format\n",
    "melted_df = pitch_data.melt(id_vars='Name', var_name='Date', value_name='Pitch_Count')\n",
    "\n",
    "# Filter out rows with empty strings in 'Pitch_Count'\n",
    "melted_df = melted_df[melted_df['Pitch_Count'] != '']\n",
    "\n",
    "# Split the 'Pitch_Count' column into 'Innings' and 'Pitch_Count'\n",
    "melted_df[['Innings', 'Pitch_Count']] = melted_df['Pitch_Count'].str.split('|', expand=True)\n",
    "melted_df['Pitch_Count'] = melted_df['Pitch_Count'].astype(int)\n",
    "\n",
    "# Create a pivot table for pitch count by pitcher and date\n",
    "pitch_count_matrix = melted_df.pivot_table(values='Pitch_Count', index='Name', columns='Date', aggfunc='sum', fill_value=0)\n",
    "\n",
    "# Calculate total pitch count for the last 3 days and last 7 days\n",
    "pitch_count_matrix['Total Last 3 Days'] = pitch_count_matrix.iloc[:, -4:-1].sum(axis=1)\n",
    "pitch_count_matrix['Total Last 7 Days'] = pitch_count_matrix.iloc[:, :-1].sum(axis=1)\n",
    "\n",
    "# Display the resulting DataFrame\n",
    "print(pitch_count_matrix)"
   ]
  }
 ],
 "metadata": {
  "kernelspec": {
   "display_name": "Python 3",
   "language": "python",
   "name": "python3"
  },
  "language_info": {
   "codemirror_mode": {
    "name": "ipython",
    "version": 3
   },
   "file_extension": ".py",
   "mimetype": "text/x-python",
   "name": "python",
   "nbconvert_exporter": "python",
   "pygments_lexer": "ipython3",
   "version": "3.11.5"
  }
 },
 "nbformat": 4,
 "nbformat_minor": 2
}
